{
 "cells": [
  {
   "cell_type": "markdown",
   "metadata": {},
   "source": [
    "# 1. Prerequisites\n",
    "* A Pinecone A/c\n",
    "* A cohere API key\n",
    "* Python env with Jupyter notebook\n",
    "* Basic knowledge of Python and env vars"
   ]
  },
  {
   "cell_type": "markdown",
   "metadata": {},
   "source": [
    "# 2. Install Dependencies\n"
   ]
  },
  {
   "cell_type": "code",
   "execution_count": 1,
   "metadata": {},
   "outputs": [
    {
     "name": "stdout",
     "output_type": "stream",
     "text": [
      "Note: you may need to restart the kernel to use updated packages.\n"
     ]
    }
   ],
   "source": [
    "# Install dependencies\n",
    "%pip install -q pinecone cohere datasets python-dotenv "
   ]
  },
  {
   "cell_type": "markdown",
   "metadata": {},
   "source": [
    "# 3. Initialize Pinecone & Setup API Key"
   ]
  },
  {
   "cell_type": "code",
   "execution_count": 2,
   "metadata": {},
   "outputs": [
    {
     "name": "stderr",
     "output_type": "stream",
     "text": [
      "/home/codespace/.python/current/lib/python3.12/site-packages/tqdm/auto.py:21: TqdmWarning: IProgress not found. Please update jupyter and ipywidgets. See https://ipywidgets.readthedocs.io/en/stable/user_install.html\n",
      "  from .autonotebook import tqdm as notebook_tqdm\n"
     ]
    }
   ],
   "source": [
    "# initialize Pinecone and setup API Key\n",
    "import pinecone\n",
    "import os\n",
    "from dotenv import load_dotenv\n",
    "import cohere"
   ]
  },
  {
   "cell_type": "code",
   "execution_count": 3,
   "metadata": {},
   "outputs": [],
   "source": [
    "# load API keyes from .env file\n",
    "load_dotenv()\n",
    "pinecone_api_key = os.getenv(\"PINECONE_API_KEY\")\n",
    "cohere_api_key = os.getenv(\"COHERE_API_KEY\")"
   ]
  },
  {
   "cell_type": "markdown",
   "metadata": {},
   "source": [
    "# 4. Create a Pinecone Index"
   ]
  },
  {
   "cell_type": "code",
   "execution_count": 4,
   "metadata": {},
   "outputs": [],
   "source": [
    "# Initialize connection to Pinecone \n",
    "from pinecone import Pinecone, ServerlessSpec\n",
    "pc = Pinecone(api_key=pinecone_api_key)\n",
    "\n",
    "index_name = \"cohere-pinecone-tree\""
   ]
  },
  {
   "cell_type": "code",
   "execution_count": 5,
   "metadata": {},
   "outputs": [
    {
     "data": {
      "text/plain": [
       "[\n",
       "    {\n",
       "        \"name\": \"cohere-pinecone-tree\",\n",
       "        \"metric\": \"cosine\",\n",
       "        \"host\": \"cohere-pinecone-tree-z2k0we0.svc.aped-4627-b74a.pinecone.io\",\n",
       "        \"spec\": {\n",
       "            \"serverless\": {\n",
       "                \"cloud\": \"aws\",\n",
       "                \"region\": \"us-east-1\"\n",
       "            }\n",
       "        },\n",
       "        \"status\": {\n",
       "            \"ready\": true,\n",
       "            \"state\": \"Ready\"\n",
       "        },\n",
       "        \"vector_type\": \"dense\",\n",
       "        \"dimension\": 1024,\n",
       "        \"deletion_protection\": \"disabled\",\n",
       "        \"tags\": null\n",
       "    }\n",
       "]"
      ]
     },
     "execution_count": 5,
     "metadata": {},
     "output_type": "execute_result"
    }
   ],
   "source": [
    "# Create a pinecone index for the dataset if not there already\n",
    "\n",
    "if not pc.has_index(index_name):\n",
    "    pc.create_index(\n",
    "        name=index_name,\n",
    "        metric=\"cosine\",\n",
    "        dimension=1024,\n",
    "        spec= ServerlessSpec(\n",
    "            cloud = \"aws\",\n",
    "            region = \"us-east-1\",\n",
    "        )\n",
    "    )   \n",
    "\n",
    "pc.list_indexes()"
   ]
  },
  {
   "cell_type": "markdown",
   "metadata": {},
   "source": [
    "# 5. Load & Prepare Dataset"
   ]
  },
  {
   "cell_type": "code",
   "execution_count": 6,
   "metadata": {},
   "outputs": [],
   "source": [
    "# load & Prepare the Dataset - Using sample dataset from HF\n",
    "from datasets import load_dataset\n",
    "\n",
    "dataset = load_dataset(\"trec\", split=\"train[:1000]\")\n",
    "\n",
    "# Extract embeddings\n",
    "texts = [item[\"text\"] for item in dataset.select(range(100))]\n"
   ]
  },
  {
   "cell_type": "markdown",
   "metadata": {},
   "source": [
    "# 6. Generate Embeddings using Cohere"
   ]
  },
  {
   "cell_type": "code",
   "execution_count": 7,
   "metadata": {},
   "outputs": [
    {
     "name": "stdout",
     "output_type": "stream",
     "text": [
      "Embeddings Shape:  100 1024\n"
     ]
    }
   ],
   "source": [
    "# Generate Embeddings using cohre\n",
    "co = cohere.Client(api_key=cohere_api_key)\n",
    "\n",
    "# Generate Embeddings\n",
    "embeddings = co.embed(\n",
    "    texts = texts, \n",
    "    model=\"embed-english-v3.0\",\n",
    "    input_type=\"search_document\",\n",
    "    truncate=\"END\").embeddings\n",
    "\n",
    "# Check dimensions of the embeddings\n",
    "print(\"Embeddings Shape: \", len(embeddings), len(embeddings[0])) # 100, 1024 - should match the index (pinecone) dimension\n"
   ]
  },
  {
   "cell_type": "markdown",
   "metadata": {},
   "source": [
    "# 7. Store Embeddings in Pinecone"
   ]
  },
  {
   "cell_type": "code",
   "execution_count": null,
   "metadata": {},
   "outputs": [
    {
     "data": {
      "text/plain": [
       "{'upserted_count': 100}"
      ]
     },
     "execution_count": 10,
     "metadata": {},
     "output_type": "execute_result"
    }
   ],
   "source": [
    "# Store Embeddings in Pinecone\n",
    "index = pc.Index(index_name)     # get the index\n",
    "\n",
    "# prepare and upsert/insert data\n",
    "vectors = [(str(i), embeddings[i]) for i in range(len(embeddings))]\n",
    "index.upsert(vectors)"
   ]
  },
  {
   "cell_type": "markdown",
   "metadata": {},
   "source": [
    "# 8. Perform Sementic Search"
   ]
  },
  {
   "cell_type": "code",
   "execution_count": 15,
   "metadata": {},
   "outputs": [],
   "source": [
    "# Create a query & Embed it\n",
    "query = \"What caused the 1929 Great Depression?\"\n",
    "query_embedding = co.embed(\n",
    "    texts=[query], \n",
    "    model=\"embed-english-v3.0\",\n",
    "    input_type=\"search_query\",  # Corrected input_type\n",
    "    truncate=\"END\"\n",
    ").embeddings[0]\n"
   ]
  },
  {
   "cell_type": "code",
   "execution_count": 17,
   "metadata": {},
   "outputs": [],
   "source": [
    "# search pinecone for similar results\n",
    "response = index.query(vector=[query_embedding], top_k=5, include_metadata=True)\n"
   ]
  },
  {
   "cell_type": "code",
   "execution_count": 19,
   "metadata": {},
   "outputs": [
    {
     "name": "stdout",
     "output_type": "stream",
     "text": [
      "Matched text: What are bear and bull markets ? - Similarity: 0.23\n",
      "--------------------------------------------------\n",
      "Matched text: How did serfdom develop in and then leave Russia ? - Similarity: 0.23\n",
      "--------------------------------------------------\n",
      "Matched text: What is considered the costliest disaster the insurance industry has ever faced ? - Similarity: 0.23\n",
      "--------------------------------------------------\n",
      "Matched text: Who killed Gandhi ? - Similarity: 0.22\n",
      "--------------------------------------------------\n",
      "Matched text: What was cash-conscious Colonel Edwin L. Drake the first to drill ? - Similarity: 0.21\n",
      "--------------------------------------------------\n"
     ]
    }
   ],
   "source": [
    "# Display results\n",
    "for match in response[\"matches\"]:\n",
    "    print(f\"Matched text: {texts[int(match.id)]} - Similarity: {match.score:.2f}\")\n",
    "    print(\"--------------------------------------------------\")\n",
    "    "
   ]
  },
  {
   "cell_type": "markdown",
   "metadata": {},
   "source": [
    "# 9. Clean-up\n",
    "To delete pinecone index"
   ]
  },
  {
   "cell_type": "code",
   "execution_count": 23,
   "metadata": {},
   "outputs": [],
   "source": [
    "pc.delete_index(index_name) # delete the index"
   ]
  },
  {
   "cell_type": "markdown",
   "metadata": {},
   "source": []
  }
 ],
 "metadata": {
  "kernelspec": {
   "display_name": "Python 3",
   "language": "python",
   "name": "python3"
  },
  "language_info": {
   "codemirror_mode": {
    "name": "ipython",
    "version": 3
   },
   "file_extension": ".py",
   "mimetype": "text/x-python",
   "name": "python",
   "nbconvert_exporter": "python",
   "pygments_lexer": "ipython3",
   "version": "3.12.1"
  }
 },
 "nbformat": 4,
 "nbformat_minor": 2
}
