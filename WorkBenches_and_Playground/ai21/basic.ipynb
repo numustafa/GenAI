{
 "cells": [
  {
   "cell_type": "code",
   "execution_count": null,
   "metadata": {},
   "outputs": [],
   "source": [
    "#%pip install -q ai21 python-dotenv "
   ]
  },
  {
   "cell_type": "code",
   "execution_count": 1,
   "metadata": {},
   "outputs": [],
   "source": [
    "import os\n",
    "from dotenv import load_dotenv\n",
    "load_dotenv()\n",
    "from ai21 import AI21Client\n",
    "from ai21.models.chat import ResponseFormat, UserMessage\n"
   ]
  },
  {
   "cell_type": "code",
   "execution_count": 3,
   "metadata": {},
   "outputs": [
    {
     "name": "stdout",
     "output_type": "stream",
     "text": [
      "The capital of France is Paris.\n"
     ]
    }
   ],
   "source": [
    "\n",
    "message = [UserMessage(content=\"What is the capital of France?\")]\n",
    "client = AI21Client(api_key=os.environ.get(\"AI21_API_KEY\"))\n",
    "response = client.chat.completions.create(\n",
    "    model=\"jamba-1.5-large\",\n",
    "\tmessages=message,\n",
    "\tdocuments=[],\n",
    "\ttools=[],\n",
    "\tn=1,\n",
    "\tmax_tokens=2048,\n",
    "\ttemperature=0.4,\n",
    "\ttop_p=1,\n",
    "\tstop=[],\n",
    "\tresponse_format=ResponseFormat(type=\"text\"),\n",
    "    )\n",
    "print(response.choices[0].message.content)\t"
   ]
  },
  {
   "cell_type": "code",
   "execution_count": null,
   "metadata": {},
   "outputs": [],
   "source": []
  }
 ],
 "metadata": {
  "kernelspec": {
   "display_name": "Python 3",
   "language": "python",
   "name": "python3"
  },
  "language_info": {
   "codemirror_mode": {
    "name": "ipython",
    "version": 3
   },
   "file_extension": ".py",
   "mimetype": "text/x-python",
   "name": "python",
   "nbconvert_exporter": "python",
   "pygments_lexer": "ipython3",
   "version": "3.12.1"
  }
 },
 "nbformat": 4,
 "nbformat_minor": 2
}
